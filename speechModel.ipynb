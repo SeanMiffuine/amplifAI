{
 "cells": [
  {
   "cell_type": "code",
   "execution_count": 2,
   "metadata": {},
   "outputs": [
    {
     "name": "stdout",
     "output_type": "stream",
     "text": [
      "c:\\Users\\Sean\\AppData\\Local\\Programs\\Python\\Python37\\python.exe\n"
     ]
    }
   ],
   "source": [
    "import sys\n",
    "print(sys.executable)\n",
    "\n",
    "# python 3.7 is needed for azure cognitive speech services"
   ]
  },
  {
   "cell_type": "code",
   "execution_count": 3,
   "metadata": {},
   "outputs": [],
   "source": [
    "import azure.cognitiveservices.speech as speechsdk\n"
   ]
  },
  {
   "cell_type": "code",
   "execution_count": 4,
   "metadata": {},
   "outputs": [],
   "source": [
    "def from_mic():\n",
    "\n",
    "        speech_config = speechsdk.SpeechConfig(subscription=\"ea568638abe941b49779b9c33e66b6fe\", region=\"westus\")\n",
    "        speech_recognizer = speechsdk.SpeechRecognizer(speech_config=speech_config)\n",
    "        print(\"Speak into your microphone.\")\n",
    "        result = speech_recognizer.recognize_once_async().get()\n",
    "        print(result.text)"
   ]
  },
  {
   "cell_type": "code",
   "execution_count": 5,
   "metadata": {},
   "outputs": [],
   "source": [
    "def stt():\n",
    "\n",
    "    config = speechsdk.SpeechConfig(subscription=\"ea568638abe941b49779b9c33e66b6fe\", region=\"westus\")\n",
    "    config.endpoint_id = \"2c971ed6-3fb5-4bef-afed-9b1c228e80ea\"\n",
    "\n",
    "    def from_file():\n",
    "        audio = speechsdk.AudioConfig(filename=\"data/my_tip_number_one.wav\")\n",
    "        speech_recognizer = speechsdk.SpeechRecognizer(speech_config=config, audio_config=audio)\n",
    "\n",
    "        result = speech_recognizer.recognize_once_async().get()\n",
    "        print(result.text)\n",
    "\n",
    "    from_file()"
   ]
  },
  {
   "cell_type": "code",
   "execution_count": 6,
   "metadata": {},
   "outputs": [],
   "source": [
    "# REST API\n",
    "# restLink = \"https://westus3.stt.speech.microsoft.com/speech/recognition/conversation/cognitiveservices/v1?cid=398d0cf9-b231-4521-912f-f208610e48f1\"\n",
    "\n",
    "def tss():\n",
    "    speech_config = speechsdk.SpeechConfig(subscription='b33d6342ec3d470fa7c2f9ae293ce366', region='westus')\n",
    "    audio_config = speechsdk.audio.AudioOutputConfig(use_default_speaker=True)\n",
    "\n",
    "    # The language of the voice that speaks.\n",
    "    speech_config.speech_synthesis_voice_name='en-US-JennyNeural'\n",
    "\n",
    "    speech_synthesizer = speechsdk.SpeechSynthesizer(speech_config=speech_config, audio_config=audio_config)\n",
    "\n",
    "    # Get text from the console and synthesize to the default speaker.\n",
    "    print(\"Enter some text that you want to speak >\")\n",
    "    text = \"hello my name is\"\n",
    "\n",
    "    speech_synthesis_result = speech_synthesizer.speak_text_async(text).get()\n",
    "\n",
    "    if speech_synthesis_result.reason == speechsdk.ResultReason.SynthesizingAudioCompleted:\n",
    "        print(\"Speech synthesized for text [{}]\".format(text))\n",
    "    elif speech_synthesis_result.reason == speechsdk.ResultReason.Canceled:\n",
    "        cancellation_details = speech_synthesis_result.cancellation_details\n",
    "        print(\"Speech synthesis canceled: {}\".format(cancellation_details.reason))\n",
    "        if cancellation_details.reason == speechsdk.CancellationReason.Error:\n",
    "            if cancellation_details.error_details:\n",
    "                print(\"Error details: {}\".format(cancellation_details.error_details))\n",
    "                print(\"Did you set the speech resource key and region values?\")"
   ]
  },
  {
   "cell_type": "code",
   "execution_count": 7,
   "metadata": {},
   "outputs": [
    {
     "name": "stdout",
     "output_type": "stream",
     "text": [
      "My is Tim. The run is to speak slowly.\n"
     ]
    }
   ],
   "source": [
    "stt()"
   ]
  },
  {
   "cell_type": "code",
   "execution_count": 8,
   "metadata": {},
   "outputs": [
    {
     "name": "stdout",
     "output_type": "stream",
     "text": [
      "Speak into your microphone.\n",
      "Hello.\n"
     ]
    }
   ],
   "source": [
    "from_mic()"
   ]
  },
  {
   "cell_type": "code",
   "execution_count": 9,
   "metadata": {},
   "outputs": [
    {
     "name": "stdout",
     "output_type": "stream",
     "text": [
      "Enter some text that you want to speak >\n",
      "Speech synthesized for text [hello my name is]\n"
     ]
    }
   ],
   "source": [
    "tss()"
   ]
  }
 ],
 "metadata": {
  "kernelspec": {
   "display_name": "base",
   "language": "python",
   "name": "python3"
  },
  "language_info": {
   "codemirror_mode": {
    "name": "ipython",
    "version": 3
   },
   "file_extension": ".py",
   "mimetype": "text/x-python",
   "name": "python",
   "nbconvert_exporter": "python",
   "pygments_lexer": "ipython3",
   "version": "3.7.0"
  },
  "orig_nbformat": 4
 },
 "nbformat": 4,
 "nbformat_minor": 2
}
